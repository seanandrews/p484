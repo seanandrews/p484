{
 "cells": [
  {
   "cell_type": "markdown",
   "metadata": {},
   "source": [
    "# *DSHARP* Mie Opacities\n",
    "\n",
    "--------------------------------\n",
    "## Introduction\n",
    "\n",
    "This notebook demonstrates how to read our opacities used in the DSHARP project.\n",
    "\n",
    "\n",
    "--------------------------------\n",
    "## The Code\n",
    "\n",
    "The opacity package which was used to calculate the opacities and to created the figures in the DSHARP V paper will be part of `DISKLAB` and is available separately on github. To install the Large Program Opacity package you can eith download `DISKLAB` from [github](https://github.com/dullemond/DISKLAB) (once it's made public) or just the opacity package (which is already public) from [here](https://github.com/birnstiel/dsharp_opac). Then change into the base directory of the downloaded/cloned repository (either `DISKLAB` or `dsharp_opac`), and install the package with the command:\n",
    "\n",
    "    pip install -e .\n",
    "    \n",
    "The package can then be loaded in python via\n",
    "\n",
    "    from disklab import opacity\n",
    "    \n",
    "or via\n",
    "\n",
    "    import dsharp_opac as opacity\n",
    "    \n",
    "for the rest it behaves the same."
   ]
  },
  {
   "cell_type": "markdown",
   "metadata": {},
   "source": [
    "--------------------------------\n",
    "## Reading in from default format\n",
    "\n",
    "This part demonstrates how to read in the pre-calculated opacities. The opacities are read in from file `default_opacities_smooth.npz`. These have been smoothed over a narrow size distribution around each size bin, see the notebook [`smoothed_opacities.ipynb`](smoothed_opacities.ipynb) in the folder `tests` of the opacity package."
   ]
  },
  {
   "cell_type": "markdown",
   "metadata": {},
   "source": [
    "Imports for this part:"
   ]
  },
  {
   "cell_type": "code",
   "execution_count": null,
   "metadata": {},
   "outputs": [],
   "source": [
    "%matplotlib inline\n",
    "import matplotlib.pyplot as plt\n",
    "import numpy as np\n",
    "import seaborn as sns\n",
    "plt.style.use([{'figure.dpi':100, 'image.cmap':'rocket'}])"
   ]
  },
  {
   "cell_type": "markdown",
   "metadata": {},
   "source": [
    "Loading the data"
   ]
  },
  {
   "cell_type": "code",
   "execution_count": null,
   "metadata": {},
   "outputs": [],
   "source": [
    "with np.load('default_opacities_smooth.npz') as data:\n",
    "    a = data['a']\n",
    "    lam = data['lam']\n",
    "    k_abs = data['k_abs']\n",
    "    k_sca = data['k_sca']\n",
    "    g = data['g']"
   ]
  },
  {
   "cell_type": "markdown",
   "metadata": {},
   "source": [
    "Example plot: opacities of the smallest grains as function of wavelength"
   ]
  },
  {
   "cell_type": "code",
   "execution_count": null,
   "metadata": {},
   "outputs": [],
   "source": [
    "ia = 0\n",
    "f, ax = plt.subplots()\n",
    "ax.loglog(lam, k_abs[:, ia], label='absorption')\n",
    "ax.loglog(lam, k_sca[:, ia], label='scattering')\n",
    "ax.set_title(f'particle size: {a[ia]} cm')\n",
    "ax.set_ylabel('opacity [cm$^2$ g$^{-1}$]')\n",
    "ax.set_xlabel('$\\lambda$ [cm]')\n",
    "ax.legend();"
   ]
  },
  {
   "cell_type": "markdown",
   "metadata": {},
   "source": [
    "Example plot: opacities at 880 µm as function of particle size"
   ]
  },
  {
   "cell_type": "code",
   "execution_count": null,
   "metadata": {},
   "outputs": [],
   "source": [
    "ilam = lam.searchsorted(0.088)\n",
    "f, ax = plt.subplots()\n",
    "ax.loglog(a, k_abs[ilam, :], label='absorption')\n",
    "ax.loglog(a, k_sca[ilam, :], label='scattering')\n",
    "ax.set_title('wave length: {} cm'.format(lam[ilam]))\n",
    "ax.set_ylabel('opacity [cm$^2$ g$^{-1}$]')\n",
    "ax.set_xlabel('particle size [cm]')\n",
    "ax.set_ylim(ymin=1e-2)\n",
    "ax.legend();"
   ]
  },
  {
   "cell_type": "markdown",
   "metadata": {},
   "source": [
    "Example: calculate size averaged opacities and get absorption opacity at 1.3 mm."
   ]
  },
  {
   "cell_type": "code",
   "execution_count": null,
   "metadata": {},
   "outputs": [],
   "source": [
    "from disklab import opacity\n",
    "\n",
    "lam_obs = 0.13\n",
    "a_max = 0.1\n",
    "res = opacity.size_average_opacity(lam_obs, a, lam, k_abs.T, k_sca.T, plot=True)\n",
    "\n",
    "print('for a_max = {} mm, kappa_abs @ {} mm = {} cm^2/g'.format(a_max * 10, lam_obs * 10, np.interp(a_max, a, res['ka'][0, :])))"
   ]
  }
 ],
 "metadata": {
  "kernelspec": {
   "display_name": "Python 3",
   "language": "python",
   "name": "python3"
  },
  "language_info": {
   "codemirror_mode": {
    "name": "ipython",
    "version": 3
   },
   "file_extension": ".py",
   "mimetype": "text/x-python",
   "name": "python",
   "nbconvert_exporter": "python",
   "pygments_lexer": "ipython3",
   "version": "3.6.5"
  }
 },
 "nbformat": 4,
 "nbformat_minor": 2
}
